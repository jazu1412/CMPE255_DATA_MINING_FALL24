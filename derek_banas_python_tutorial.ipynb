{
  "nbformat": 4,
  "nbformat_minor": 0,
  "metadata": {
    "colab": {
      "provenance": [],
      "authorship_tag": "ABX9TyNc26JeyriPr6ElEaS34coJ",
      "include_colab_link": true
    },
    "kernelspec": {
      "name": "python3",
      "display_name": "Python 3"
    },
    "language_info": {
      "name": "python"
    }
  },
  "cells": [
    {
      "cell_type": "markdown",
      "metadata": {
        "id": "view-in-github",
        "colab_type": "text"
      },
      "source": [
        "<a href=\"https://colab.research.google.com/github/jazu1412/CMPE255_DATA_MINING_FALL24/blob/master/derek_banas_python_tutorial.ipynb\" target=\"_parent\"><img src=\"https://colab.research.google.com/assets/colab-badge.svg\" alt=\"Open In Colab\"/></a>"
      ]
    },
    {
      "cell_type": "markdown",
      "source": [
        "##Derek Banas Python Tutorial Programs##"
      ],
      "metadata": {
        "id": "GYZpND_c8Rw9"
      }
    },
    {
      "cell_type": "markdown",
      "source": [
        "# PRINT STATEMENTS"
      ],
      "metadata": {
        "id": "LROi2_gYHv0p"
      }
    },
    {
      "cell_type": "markdown",
      "source": [
        "## Print Statement 1.1"
      ],
      "metadata": {
        "id": "2Pzmhe2Z8kFi"
      }
    },
    {
      "cell_type": "code",
      "source": [
        "print(\"Hello World\")\n",
        "name = \"Jayasurya Murali\"\n",
        "print(name)"
      ],
      "metadata": {
        "colab": {
          "base_uri": "https://localhost:8080/"
        },
        "id": "3kEvqZi88eO_",
        "outputId": "f1db70fa-65dc-483b-c183-e69b3e666115"
      },
      "execution_count": null,
      "outputs": [
        {
          "output_type": "stream",
          "name": "stdout",
          "text": [
            "Hello World\n",
            "Jayasurya Murali\n"
          ]
        }
      ]
    },
    {
      "cell_type": "markdown",
      "source": [
        "## Print Arithmetic Operation 1.2"
      ],
      "metadata": {
        "id": "54UDPyV39Zx7"
      }
    },
    {
      "cell_type": "code",
      "source": [
        "name = 15\n",
        "print(name)\n",
        "\n",
        "print(\"5 + 2\",5 + 2)\n",
        "print(\"5 - 2,\",5 - 2)\n",
        "print(\"5 / 2\",5 / 2)\n",
        "print(\"5 // 2\",5 // 2)\n",
        "print(\"5 % 2\",5 % 2)\n",
        "print(\"5 * 2\",5 * 2)\n",
        "print(\"5 ** 2\",5 ** 2)\n",
        "\n"
      ],
      "metadata": {
        "id": "dhlbfE2Q9c9h",
        "colab": {
          "base_uri": "https://localhost:8080/"
        },
        "outputId": "d58734c5-b180-47b1-fe76-ba68e7e8853e"
      },
      "execution_count": null,
      "outputs": [
        {
          "output_type": "stream",
          "name": "stdout",
          "text": [
            "15\n",
            "5 + 2 7\n",
            "5 - 2, 3\n",
            "5 / 2 2.5\n",
            "5 // 2 2\n",
            "5 % 2 1\n",
            "5 * 2 10\n",
            "5 ** 2 25\n"
          ]
        }
      ]
    },
    {
      "cell_type": "markdown",
      "source": [
        "##Order of Execution in Expression 1.2"
      ],
      "metadata": {
        "id": "X7swrghRCRHg"
      }
    },
    {
      "cell_type": "code",
      "source": [
        "print(1 + 2 - 3 * 2 )\n",
        "print((1 + 2 - 3) * 2 )"
      ],
      "metadata": {
        "colab": {
          "base_uri": "https://localhost:8080/"
        },
        "id": "tkbVSdNMBA24",
        "outputId": "d11105f2-007d-42ef-d75e-0ad3d5990c69"
      },
      "execution_count": null,
      "outputs": [
        {
          "output_type": "stream",
          "name": "stdout",
          "text": [
            "-3\n",
            "0\n"
          ]
        }
      ]
    },
    {
      "cell_type": "markdown",
      "source": [
        "##Quote and string printing 1.3"
      ],
      "metadata": {
        "id": "nDwXv8P0Bbcb"
      }
    },
    {
      "cell_type": "code",
      "source": [
        "quote = \"\\\"Always remember you are unique\"\n",
        "multi_line_quote = ''' just\n",
        "    like everyone else '''\n",
        "\n",
        "new_string = quote +  multi_line_quote\n",
        "print(new_string)\n"
      ],
      "metadata": {
        "colab": {
          "base_uri": "https://localhost:8080/"
        },
        "id": "kvgO4rRKDSUb",
        "outputId": "0e4d3131-f93c-4560-e65e-04371cce0d68"
      },
      "execution_count": null,
      "outputs": [
        {
          "output_type": "stream",
          "name": "stdout",
          "text": [
            "\"Always remember you are unique just\n",
            "    like everyone else \n"
          ]
        }
      ]
    },
    {
      "cell_type": "markdown",
      "source": [
        "## Multi parameter single line print 1.4"
      ],
      "metadata": {
        "id": "6wIB906nHNmW"
      }
    },
    {
      "cell_type": "code",
      "source": [
        "\n",
        "print(\"%s %s %s\" % ('I like the quote',quote,multi_line_quote))\n",
        "\n",
        "\n"
      ],
      "metadata": {
        "colab": {
          "base_uri": "https://localhost:8080/"
        },
        "id": "9dI8cHb4HOMm",
        "outputId": "b02dc75c-2879-42d7-9472-d60f2c186ee2"
      },
      "execution_count": null,
      "outputs": [
        {
          "output_type": "stream",
          "name": "stdout",
          "text": [
            "I like the quote \"Always remember you are unique  just\n",
            "    like everyone else \n"
          ]
        }
      ]
    },
    {
      "cell_type": "markdown",
      "source": [
        "## Two lines code statement to print one line 1.5"
      ],
      "metadata": {
        "id": "ttQWNYf5HQ2i"
      }
    },
    {
      "cell_type": "code",
      "source": [
        "print(\"I dont like \",end=\"\")\n",
        "print(\"newlines\")\n"
      ],
      "metadata": {
        "colab": {
          "base_uri": "https://localhost:8080/"
        },
        "id": "s_2QVl3aHRA8",
        "outputId": "ab720364-5cde-42df-a9c1-1ff4ff93548f"
      },
      "execution_count": null,
      "outputs": [
        {
          "output_type": "stream",
          "name": "stdout",
          "text": [
            "I dont like newlines\n"
          ]
        }
      ]
    },
    {
      "cell_type": "markdown",
      "source": [
        "## 5 new lines are printed 1.6"
      ],
      "metadata": {
        "id": "VKAK1Zc0HUJI"
      }
    },
    {
      "cell_type": "code",
      "source": [
        "print(\"starting of new lines\")\n",
        "\n",
        "print('\\n'*5)\n",
        "\n",
        "print(\"5 new lines are added above\")"
      ],
      "metadata": {
        "colab": {
          "base_uri": "https://localhost:8080/"
        },
        "id": "mlqrV6sIHURi",
        "outputId": "003bda7a-4bf0-4c7b-fd40-2c25c71036d6"
      },
      "execution_count": null,
      "outputs": [
        {
          "output_type": "stream",
          "name": "stdout",
          "text": [
            "starting of new lines\n",
            "\n",
            "\n",
            "\n",
            "\n",
            "\n",
            "\n",
            "5 new lines are added above\n"
          ]
        }
      ]
    },
    {
      "cell_type": "markdown",
      "source": [
        "# LISTS"
      ],
      "metadata": {
        "id": "KkufcSHXJUVC"
      }
    },
    {
      "cell_type": "markdown",
      "source": [
        "## Printing Lists"
      ],
      "metadata": {
        "id": "ZKd4v7pcMqkT"
      }
    },
    {
      "cell_type": "code",
      "source": [
        "grocery_list = ['juices','tomatoes','potatoes','bananas','apples']\n",
        "\n",
        "print('First Item',grocery_list[0])\n",
        "\n",
        "grocery_list[0] = 'Corn Syrup'\n",
        "\n",
        "print('First Item',grocery_list[0])\n",
        "\n",
        "print(grocery_list[0:2])\n",
        "\n",
        "other_list = ['Wash Car','Pick Up Kids', 'Cash Check']\n",
        "\n",
        "to_do_list = [grocery_list,other_list]\n",
        "\n",
        "print(to_do_list[0][2])\n",
        "\n",
        "print(to_do_list[1][1])\n",
        "\n",
        "\n",
        "\n"
      ],
      "metadata": {
        "colab": {
          "base_uri": "https://localhost:8080/"
        },
        "id": "LoiGaz70JmrK",
        "outputId": "f3a5b4ba-c6f1-4082-ec96-7fa1527af9a6"
      },
      "execution_count": null,
      "outputs": [
        {
          "output_type": "stream",
          "name": "stdout",
          "text": [
            "First Item juices\n",
            "First Item Corn Syrup\n",
            "['Corn Syrup', 'tomatoes']\n",
            "potatoes\n",
            "Pick Up Kids\n"
          ]
        }
      ]
    },
    {
      "cell_type": "markdown",
      "source": [
        "##Append List and print"
      ],
      "metadata": {
        "id": "-GZbZO-gNiYB"
      }
    },
    {
      "cell_type": "code",
      "source": [
        "grocery_list.append(\"Onions\")\n",
        "\n",
        "print(to_do_list)\n"
      ],
      "metadata": {
        "colab": {
          "base_uri": "https://localhost:8080/"
        },
        "id": "aKUL0XmdNCFU",
        "outputId": "5d44a52b-15ca-40ba-a2f2-bd5bf430d908"
      },
      "execution_count": null,
      "outputs": [
        {
          "output_type": "stream",
          "name": "stdout",
          "text": [
            "[['Corn Syrup', 'tomatoes', 'potatoes', 'bananas', 'apples', 'Onions'], ['Wash Car', 'Pick Up Kids', 'Cash Check']]\n"
          ]
        }
      ]
    },
    {
      "cell_type": "markdown",
      "source": [
        "Insert item in List and Remove and Print"
      ],
      "metadata": {
        "id": "CNWCS91dNtWB"
      }
    },
    {
      "cell_type": "code",
      "source": [
        "grocery_list.insert(4,\"Pickle\")\n",
        "\n",
        "print(to_do_list)\n",
        "\n",
        "\n",
        "grocery_list.remove(\"Pickle\")\n",
        "\n",
        "print(to_do_list)"
      ],
      "metadata": {
        "colab": {
          "base_uri": "https://localhost:8080/"
        },
        "id": "DUrKjxR2Nw6j",
        "outputId": "b12c99ef-106c-4e10-f723-67e72e3fa875"
      },
      "execution_count": null,
      "outputs": [
        {
          "output_type": "stream",
          "name": "stdout",
          "text": [
            "[['Corn Syrup', 'tomatoes', 'potatoes', 'bananas', 'Pickle', 'apples', 'Onions'], ['Wash Car', 'Pick Up Kids', 'Cash Check']]\n",
            "[['Corn Syrup', 'tomatoes', 'potatoes', 'bananas', 'apples', 'Onions'], ['Wash Car', 'Pick Up Kids', 'Cash Check']]\n"
          ]
        }
      ]
    }
  ]
}