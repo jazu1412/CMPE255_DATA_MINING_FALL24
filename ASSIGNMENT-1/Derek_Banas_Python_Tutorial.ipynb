{
  "nbformat": 4,
  "nbformat_minor": 0,
  "metadata": {
    "colab": {
      "provenance": [],
      "collapsed_sections": [
        "LROi2_gYHv0p",
        "ZKd4v7pcMqkT",
        "-GZbZO-gNiYB",
        "wm6XmMBsTvbz",
        "a4nh5ljnYPOC",
        "BM5AAo2ebRsY"
      ],
      "toc_visible": true,
      "authorship_tag": "ABX9TyOaCImQFP2oiFtsAn1lJ13/",
      "include_colab_link": true
    },
    "kernelspec": {
      "name": "python3",
      "display_name": "Python 3"
    },
    "language_info": {
      "name": "python"
    }
  },
  "cells": [
    {
      "cell_type": "markdown",
      "metadata": {
        "id": "view-in-github",
        "colab_type": "text"
      },
      "source": [
        "<a href=\"https://colab.research.google.com/github/jazu1412/CMPE255_DATA_MINING_FALL24/blob/master/ASSIGNMENT-1/Derek_Banas_Python_Tutorial.ipynb\" target=\"_parent\"><img src=\"https://colab.research.google.com/assets/colab-badge.svg\" alt=\"Open In Colab\"/></a>"
      ]
    },
    {
      "cell_type": "markdown",
      "source": [
        "##Derek Banas Python Tutorial Programs##"
      ],
      "metadata": {
        "id": "GYZpND_c8Rw9"
      }
    },
    {
      "cell_type": "markdown",
      "source": [
        "# PRINT STATEMENTS"
      ],
      "metadata": {
        "id": "LROi2_gYHv0p"
      }
    },
    {
      "cell_type": "markdown",
      "source": [
        "## *Print Statement 1.1*"
      ],
      "metadata": {
        "id": "2Pzmhe2Z8kFi"
      }
    },
    {
      "cell_type": "code",
      "source": [
        "print(\"Hello World\")\n",
        "name = \"Jayasurya Murali\"\n",
        "print(name)"
      ],
      "metadata": {
        "colab": {
          "base_uri": "https://localhost:8080/"
        },
        "id": "3kEvqZi88eO_",
        "outputId": "f1db70fa-65dc-483b-c183-e69b3e666115"
      },
      "execution_count": null,
      "outputs": [
        {
          "output_type": "stream",
          "name": "stdout",
          "text": [
            "Hello World\n",
            "Jayasurya Murali\n"
          ]
        }
      ]
    },
    {
      "cell_type": "markdown",
      "source": [
        "## *Print Arithmetic Operation 1.2*"
      ],
      "metadata": {
        "id": "54UDPyV39Zx7"
      }
    },
    {
      "cell_type": "code",
      "source": [
        "name = 15\n",
        "print(name)\n",
        "\n",
        "print(\"5 + 2\",5 + 2)\n",
        "print(\"5 - 2,\",5 - 2)\n",
        "print(\"5 / 2\",5 / 2)\n",
        "print(\"5 // 2\",5 // 2)\n",
        "print(\"5 % 2\",5 % 2)\n",
        "print(\"5 * 2\",5 * 2)\n",
        "print(\"5 ** 2\",5 ** 2)\n",
        "\n"
      ],
      "metadata": {
        "id": "dhlbfE2Q9c9h",
        "colab": {
          "base_uri": "https://localhost:8080/"
        },
        "outputId": "d58734c5-b180-47b1-fe76-ba68e7e8853e"
      },
      "execution_count": null,
      "outputs": [
        {
          "output_type": "stream",
          "name": "stdout",
          "text": [
            "15\n",
            "5 + 2 7\n",
            "5 - 2, 3\n",
            "5 / 2 2.5\n",
            "5 // 2 2\n",
            "5 % 2 1\n",
            "5 * 2 10\n",
            "5 ** 2 25\n"
          ]
        }
      ]
    },
    {
      "cell_type": "markdown",
      "source": [
        "##*Order of Execution in Expression 1.2*\n",
        "\n",
        "---\n",
        "\n"
      ],
      "metadata": {
        "id": "X7swrghRCRHg"
      }
    },
    {
      "cell_type": "code",
      "source": [
        "print(1 + 2 - 3 * 2 )\n",
        "print((1 + 2 - 3) * 2 )"
      ],
      "metadata": {
        "colab": {
          "base_uri": "https://localhost:8080/"
        },
        "id": "tkbVSdNMBA24",
        "outputId": "d11105f2-007d-42ef-d75e-0ad3d5990c69"
      },
      "execution_count": null,
      "outputs": [
        {
          "output_type": "stream",
          "name": "stdout",
          "text": [
            "-3\n",
            "0\n"
          ]
        }
      ]
    },
    {
      "cell_type": "markdown",
      "source": [
        "##Quote and string printing 1.3"
      ],
      "metadata": {
        "id": "nDwXv8P0Bbcb"
      }
    },
    {
      "cell_type": "code",
      "source": [
        "quote = \"\\\"Always remember you are unique\"\n",
        "multi_line_quote = ''' just\n",
        "    like everyone else '''\n",
        "\n",
        "new_string = quote +  multi_line_quote\n",
        "print(new_string)\n"
      ],
      "metadata": {
        "colab": {
          "base_uri": "https://localhost:8080/"
        },
        "id": "kvgO4rRKDSUb",
        "outputId": "0e4d3131-f93c-4560-e65e-04371cce0d68"
      },
      "execution_count": null,
      "outputs": [
        {
          "output_type": "stream",
          "name": "stdout",
          "text": [
            "\"Always remember you are unique just\n",
            "    like everyone else \n"
          ]
        }
      ]
    },
    {
      "cell_type": "markdown",
      "source": [
        "## Multi parameter single line print 1.4"
      ],
      "metadata": {
        "id": "6wIB906nHNmW"
      }
    },
    {
      "cell_type": "code",
      "source": [
        "\n",
        "print(\"%s %s %s\" % ('I like the quote',quote,multi_line_quote))\n",
        "\n",
        "\n"
      ],
      "metadata": {
        "colab": {
          "base_uri": "https://localhost:8080/"
        },
        "id": "9dI8cHb4HOMm",
        "outputId": "b02dc75c-2879-42d7-9472-d60f2c186ee2"
      },
      "execution_count": null,
      "outputs": [
        {
          "output_type": "stream",
          "name": "stdout",
          "text": [
            "I like the quote \"Always remember you are unique  just\n",
            "    like everyone else \n"
          ]
        }
      ]
    },
    {
      "cell_type": "markdown",
      "source": [
        "## Two lines code statement to print one line 1.5"
      ],
      "metadata": {
        "id": "ttQWNYf5HQ2i"
      }
    },
    {
      "cell_type": "code",
      "source": [
        "print(\"I dont like \",end=\"\")\n",
        "print(\"newlines\")\n"
      ],
      "metadata": {
        "colab": {
          "base_uri": "https://localhost:8080/"
        },
        "id": "s_2QVl3aHRA8",
        "outputId": "ab720364-5cde-42df-a9c1-1ff4ff93548f"
      },
      "execution_count": null,
      "outputs": [
        {
          "output_type": "stream",
          "name": "stdout",
          "text": [
            "I dont like newlines\n"
          ]
        }
      ]
    },
    {
      "cell_type": "markdown",
      "source": [
        "## 5 new lines are printed 1.6"
      ],
      "metadata": {
        "id": "VKAK1Zc0HUJI"
      }
    },
    {
      "cell_type": "code",
      "source": [
        "print(\"starting of new lines\")\n",
        "\n",
        "print('\\n'*5)\n",
        "\n",
        "print(\"5 new lines are added above\")"
      ],
      "metadata": {
        "colab": {
          "base_uri": "https://localhost:8080/"
        },
        "id": "mlqrV6sIHURi",
        "outputId": "003bda7a-4bf0-4c7b-fd40-2c25c71036d6"
      },
      "execution_count": null,
      "outputs": [
        {
          "output_type": "stream",
          "name": "stdout",
          "text": [
            "starting of new lines\n",
            "\n",
            "\n",
            "\n",
            "\n",
            "\n",
            "\n",
            "5 new lines are added above\n"
          ]
        }
      ]
    },
    {
      "cell_type": "markdown",
      "source": [
        "# LISTS"
      ],
      "metadata": {
        "id": "KkufcSHXJUVC"
      }
    },
    {
      "cell_type": "markdown",
      "source": [
        "## Printing Lists"
      ],
      "metadata": {
        "id": "ZKd4v7pcMqkT"
      }
    },
    {
      "cell_type": "code",
      "source": [
        "grocery_list = ['juices','tomatoes','potatoes','bananas','apples']\n",
        "\n",
        "print('First Item',grocery_list[0])\n",
        "\n",
        "grocery_list[0] = 'Corn Syrup'\n",
        "\n",
        "print('First Item',grocery_list[0])\n",
        "\n",
        "print(grocery_list[0:2])\n",
        "\n",
        "other_list = ['Wash Car','Pick Up Kids', 'Cash Check']\n",
        "\n",
        "to_do_list = [grocery_list,other_list]\n",
        "\n",
        "print(to_do_list[0][2])\n",
        "\n",
        "print(to_do_list[1][1])\n",
        "\n",
        "\n",
        "\n"
      ],
      "metadata": {
        "colab": {
          "base_uri": "https://localhost:8080/"
        },
        "id": "LoiGaz70JmrK",
        "outputId": "1fc5ee85-6233-4abe-900b-3bf10e7b1b81"
      },
      "execution_count": null,
      "outputs": [
        {
          "output_type": "stream",
          "name": "stdout",
          "text": [
            "First Item juices\n",
            "First Item Corn Syrup\n",
            "['Corn Syrup', 'tomatoes']\n",
            "potatoes\n",
            "Pick Up Kids\n"
          ]
        }
      ]
    },
    {
      "cell_type": "markdown",
      "source": [
        "##Append List and print"
      ],
      "metadata": {
        "id": "-GZbZO-gNiYB"
      }
    },
    {
      "cell_type": "code",
      "source": [
        "grocery_list.append(\"Onions\")\n",
        "\n",
        "print(to_do_list)\n"
      ],
      "metadata": {
        "colab": {
          "base_uri": "https://localhost:8080/"
        },
        "id": "aKUL0XmdNCFU",
        "outputId": "5d44a52b-15ca-40ba-a2f2-bd5bf430d908"
      },
      "execution_count": null,
      "outputs": [
        {
          "output_type": "stream",
          "name": "stdout",
          "text": [
            "[['Corn Syrup', 'tomatoes', 'potatoes', 'bananas', 'apples', 'Onions'], ['Wash Car', 'Pick Up Kids', 'Cash Check']]\n"
          ]
        }
      ]
    },
    {
      "cell_type": "markdown",
      "source": [
        "Insert item in List and Remove and Print"
      ],
      "metadata": {
        "id": "CNWCS91dNtWB"
      }
    },
    {
      "cell_type": "code",
      "source": [
        "grocery_list.insert(4,\"Pickle\")\n",
        "\n",
        "print(to_do_list)\n",
        "\n",
        "\n",
        "grocery_list.remove(\"Pickle\")\n",
        "\n",
        "print(to_do_list)"
      ],
      "metadata": {
        "colab": {
          "base_uri": "https://localhost:8080/"
        },
        "id": "DUrKjxR2Nw6j",
        "outputId": "b12c99ef-106c-4e10-f723-67e72e3fa875"
      },
      "execution_count": null,
      "outputs": [
        {
          "output_type": "stream",
          "name": "stdout",
          "text": [
            "[['Corn Syrup', 'tomatoes', 'potatoes', 'bananas', 'Pickle', 'apples', 'Onions'], ['Wash Car', 'Pick Up Kids', 'Cash Check']]\n",
            "[['Corn Syrup', 'tomatoes', 'potatoes', 'bananas', 'apples', 'Onions'], ['Wash Car', 'Pick Up Kids', 'Cash Check']]\n"
          ]
        }
      ]
    },
    {
      "cell_type": "markdown",
      "source": [
        "## Sort , Reverse , Delete , Min , Max,  Len in Lists"
      ],
      "metadata": {
        "id": "wm6XmMBsTvbz"
      }
    },
    {
      "cell_type": "code",
      "source": [
        "grocery_list.sort\n",
        "grocery_list.reverse\n",
        "\n",
        "del grocery_list[4]\n",
        "print(to_do_list)\n",
        "\n",
        "\n",
        "to_do_list2 = other_list + grocery_list\n",
        "\n",
        "print(max(to_do_list2))\n",
        "print(min(to_do_list2))\n",
        "print(len(to_do_list2))\n"
      ],
      "metadata": {
        "colab": {
          "base_uri": "https://localhost:8080/"
        },
        "id": "q9HGUcKtTxug",
        "outputId": "eb466f6d-3a98-4c49-af87-8eee68e140a1"
      },
      "execution_count": null,
      "outputs": [
        {
          "output_type": "stream",
          "name": "stdout",
          "text": [
            "[['Corn Syrup', 'tomatoes', 'potatoes', 'bananas'], ['Wash Car', 'Pick Up Kids', 'Cash Check']]\n",
            "tomatoes\n",
            "Cash Check\n",
            "7\n"
          ]
        }
      ]
    },
    {
      "cell_type": "markdown",
      "source": [
        "#TUPLE"
      ],
      "metadata": {
        "id": "a4nh5ljnYPOC"
      }
    },
    {
      "cell_type": "code",
      "source": [
        "pi_tuple = (3,1,4,1,5,9)\n",
        "\n",
        "new_tuple = tuple(pi_tuple)\n",
        "\n",
        "new_list = list(new_tuple)\n",
        "\n",
        "\n",
        "print(\"new tuple max\", max(new_tuple) )\n",
        "print(\"new tuple min\", min(new_tuple) )\n",
        "print(\"new tuple len\", len(new_tuple) )\n"
      ],
      "metadata": {
        "colab": {
          "base_uri": "https://localhost:8080/"
        },
        "id": "cVMCW6fcZ3To",
        "outputId": "3ef2f59f-8e29-458f-cad9-9199794f9877"
      },
      "execution_count": null,
      "outputs": [
        {
          "output_type": "stream",
          "name": "stdout",
          "text": [
            "new tuple max 9\n",
            "new tuple min 1\n",
            "new tuple len 6\n"
          ]
        }
      ]
    },
    {
      "cell_type": "markdown",
      "source": [
        "# DICTIONARY AND MAP"
      ],
      "metadata": {
        "id": "BM5AAo2ebRsY"
      }
    },
    {
      "cell_type": "code",
      "source": [
        "super_villains = {'Fiddler':'Isaac Bowin','Captain cold':'Leonard Snart','Weather Wizard':'Mark Madonn','Mirror Master':'Sam Scudder','Pied Piper':'Thomas Peterson'}\n",
        "\n",
        "print(super_villains['Captain cold'])\n",
        "\n",
        "del super_villains['Fiddler']\n",
        "\n",
        "super_villains['Pied Piper']='Hartley Rathaway'\n",
        "\n",
        "print(len(super_villains))\n",
        "\n",
        "super_villains.get('Pied Piper')\n",
        "\n",
        "print(super_villains.keys())\n",
        "\n",
        "print(super_villains.values())\n",
        "\n",
        "\n",
        "\n"
      ],
      "metadata": {
        "colab": {
          "base_uri": "https://localhost:8080/"
        },
        "id": "0G6g2setbVz5",
        "outputId": "d8f572d3-97dc-47e3-d443-1180e08a17fd"
      },
      "execution_count": null,
      "outputs": [
        {
          "output_type": "stream",
          "name": "stdout",
          "text": [
            "Leonard Snart\n",
            "4\n",
            "dict_keys(['Captain cold', 'Weather Wizard', 'Mirror Master', 'Pied Piper'])\n",
            "dict_values(['Leonard Snart', 'Mark Madonn', 'Sam Scudder', 'Hartley Rathaway'])\n"
          ]
        }
      ]
    },
    {
      "cell_type": "markdown",
      "source": [
        "#CONDITIONALS"
      ],
      "metadata": {
        "id": "VNhtqGOvfbvq"
      }
    },
    {
      "cell_type": "markdown",
      "source": [
        "## If and elif"
      ],
      "metadata": {
        "id": "aS7bDN5EhDJb"
      }
    },
    {
      "cell_type": "code",
      "source": [
        "age = 21\n",
        "\n",
        "if age > 16 :\n",
        "    print(\"you are eligible to drive a car\")\n",
        "else :\n",
        "    print(\"you are not eligible to drive a car\")\n",
        "\n",
        "age = 13\n",
        "\n",
        "if age > 21 :\n",
        "    print(\"you are eligible to drive a tractor trailer\")\n",
        "elif age > 16 :\n",
        "      print(\"you are eligible to drive a car\")\n",
        "else :\n",
        "     print(\"you are not eligible to drive a car\")\n",
        "\n",
        "age = 30\n",
        "\n",
        "if( (age>=1) and (age<=18) ) :\n",
        "     print('you get a birthday')\n",
        "elif age==21 or (age>=65) :\n",
        "     print('you get a birthday')\n",
        "elif not(age==30) :\n",
        "     print(\"you dont get a birthday\")\n",
        "else :\n",
        "     print(\"you get a birthday party yes\")\n",
        "\n"
      ],
      "metadata": {
        "colab": {
          "base_uri": "https://localhost:8080/"
        },
        "id": "v96rCQzAflB_",
        "outputId": "5dd7e49c-11df-4cc5-b8d8-2b6bd1992294"
      },
      "execution_count": null,
      "outputs": [
        {
          "output_type": "stream",
          "name": "stdout",
          "text": [
            "you are eligible to drive a car\n",
            "you are not eligible to drive a car\n",
            "you get a birthday party yes\n"
          ]
        }
      ]
    },
    {
      "cell_type": "markdown",
      "source": [
        "#LOOPING\n",
        "\n"
      ],
      "metadata": {
        "id": "gztA2IZ5hJTP"
      }
    },
    {
      "cell_type": "markdown",
      "source": [
        "##FOR LOOP"
      ],
      "metadata": {
        "id": "tnso3OVioNHF"
      }
    },
    {
      "cell_type": "markdown",
      "source": [
        "### Looping a range"
      ],
      "metadata": {
        "id": "alf2oOjykBjJ"
      }
    },
    {
      "cell_type": "code",
      "source": [
        "for x in range(0,10):\n",
        "    print(x,'',end=\" \")"
      ],
      "metadata": {
        "colab": {
          "base_uri": "https://localhost:8080/"
        },
        "id": "qHqBU98fi2fD",
        "outputId": "347aca04-9b16-4abd-811a-f665138b56db"
      },
      "execution_count": null,
      "outputs": [
        {
          "output_type": "stream",
          "name": "stdout",
          "text": [
            "0  1  2  3  4  5  6  7  8  9  "
          ]
        }
      ]
    },
    {
      "cell_type": "markdown",
      "source": [
        "###Looping a list"
      ],
      "metadata": {
        "id": "324PSJXEkIt2"
      }
    },
    {
      "cell_type": "code",
      "source": [
        "grocery_list = ['tomatoes','oranges','bananas','juices','apples']\n",
        "\n",
        "for x in grocery_list :\n",
        "    print( x)\n"
      ],
      "metadata": {
        "colab": {
          "base_uri": "https://localhost:8080/"
        },
        "id": "zEpiA-FKkTL7",
        "outputId": "c1b75cde-fc44-4bb7-83a2-bbcaaff6f75d"
      },
      "execution_count": null,
      "outputs": [
        {
          "output_type": "stream",
          "name": "stdout",
          "text": [
            "tomatoes\n",
            "oranges\n",
            "bananas\n",
            "juices\n",
            "apples\n"
          ]
        }
      ]
    },
    {
      "cell_type": "markdown",
      "source": [
        "###Looping a range of array"
      ],
      "metadata": {
        "id": "HYNgtEQjk1Y1"
      }
    },
    {
      "cell_type": "code",
      "source": [
        "for x in [2,4,6,8,10] :\n",
        "    print(x)"
      ],
      "metadata": {
        "colab": {
          "base_uri": "https://localhost:8080/"
        },
        "id": "g1GchmJZk4Pa",
        "outputId": "ed8ce880-3a29-4c1e-e2a2-7d1687fc2b33"
      },
      "execution_count": null,
      "outputs": [
        {
          "output_type": "stream",
          "name": "stdout",
          "text": [
            "2\n",
            "4\n",
            "6\n",
            "8\n",
            "10\n"
          ]
        }
      ]
    },
    {
      "cell_type": "markdown",
      "source": [
        "###Looping a range of 2d list"
      ],
      "metadata": {
        "id": "kIwoitavlthx"
      }
    },
    {
      "cell_type": "code",
      "source": [
        "num_list = [[1,2,3],[10,20,30],[100,200,300]]\n",
        "\n",
        "for x in range(0,3) :\n",
        "  print('\\n')\n",
        "  for y in range(0,3) :\n",
        "     print(num_list[x][y],'',end=\"\")\n",
        "\n"
      ],
      "metadata": {
        "colab": {
          "base_uri": "https://localhost:8080/"
        },
        "id": "AzDLUnMMl0cU",
        "outputId": "7e648eec-b52a-4080-cc08-87e54ed3e9d8"
      },
      "execution_count": null,
      "outputs": [
        {
          "output_type": "stream",
          "name": "stdout",
          "text": [
            "\n",
            "\n",
            "1 2 3 \n",
            "\n",
            "10 20 30 \n",
            "\n",
            "100 200 300 "
          ]
        }
      ]
    },
    {
      "cell_type": "markdown",
      "source": [
        "##WHILE LOOP"
      ],
      "metadata": {
        "id": "MLLVUUzboZua"
      }
    },
    {
      "cell_type": "code",
      "source": [
        "import random\n",
        "random_num = random.randrange(0,100)\n",
        "\n",
        "while(random_num!=15):\n",
        "  print(random_num)\n",
        "  random_num=random.randrange(0,100)\n"
      ],
      "metadata": {
        "colab": {
          "base_uri": "https://localhost:8080/"
        },
        "id": "nxvR_Ov3oc6D",
        "outputId": "b9f240c0-a8d2-446c-8832-86d5759346e2"
      },
      "execution_count": null,
      "outputs": [
        {
          "output_type": "stream",
          "name": "stdout",
          "text": [
            "33\n",
            "41\n",
            "85\n",
            "48\n",
            "97\n",
            "2\n",
            "29\n",
            "45\n",
            "32\n",
            "50\n"
          ]
        }
      ]
    },
    {
      "cell_type": "code",
      "source": [
        "i=0\n",
        "\n",
        "while i<=20 :\n",
        "  if i%2 == 0 :\n",
        "    print(i)\n",
        "  elif i==9  :\n",
        "     break\n",
        "  else :\n",
        "     i+=1\n",
        "     continue\n",
        "\n",
        "  i+=1\n",
        "\n"
      ],
      "metadata": {
        "colab": {
          "base_uri": "https://localhost:8080/"
        },
        "id": "G-dS6siprqYA",
        "outputId": "64ffcb0a-f2c1-413e-c71d-acf2879110a2"
      },
      "execution_count": null,
      "outputs": [
        {
          "output_type": "stream",
          "name": "stdout",
          "text": [
            "0\n",
            "2\n",
            "4\n",
            "6\n",
            "8\n"
          ]
        }
      ]
    },
    {
      "cell_type": "markdown",
      "source": [
        "# FUNCTIONS"
      ],
      "metadata": {
        "id": "SQgd_rxPLmNM"
      }
    },
    {
      "cell_type": "markdown",
      "source": [
        "## Add Function"
      ],
      "metadata": {
        "id": "SPl4o6NLM58m"
      }
    },
    {
      "cell_type": "code",
      "source": [
        "def addNumber(firstNum, lastNum) :\n",
        "    sumNum = firstNum+lastNum\n",
        "    print('%d + %d = %d' % (firstNum, lastNum, sumNum))\n",
        "    return sumNum\n",
        "\n",
        "print(addNumber(4,6))\n"
      ],
      "metadata": {
        "colab": {
          "base_uri": "https://localhost:8080/"
        },
        "id": "kG4XJD9OLpbI",
        "outputId": "3c29277e-fbf3-4617-8fd5-9400b5ad5913"
      },
      "execution_count": 116,
      "outputs": [
        {
          "output_type": "stream",
          "name": "stdout",
          "text": [
            "4 + 6 = 10\n",
            "10\n"
          ]
        }
      ]
    },
    {
      "cell_type": "markdown",
      "source": [
        "Subtract Function"
      ],
      "metadata": {
        "id": "2AarJPO4M9ct"
      }
    },
    {
      "cell_type": "markdown",
      "source": [
        "# STANDARD INPUT"
      ],
      "metadata": {
        "id": "iXb1BvMYN1C1"
      }
    },
    {
      "cell_type": "code",
      "source": [
        "import sys\n",
        "print(\"What is your name\")\n",
        "name = input() # since google colab is a web based interface below readline wont work here\n",
        "\n",
        "#name = sys.stdin.readline()\n",
        "\n",
        "print(\"hello\", name)\n"
      ],
      "metadata": {
        "colab": {
          "base_uri": "https://localhost:8080/"
        },
        "id": "2YkpJ42wObRW",
        "outputId": "29ab63ce-27dd-45d4-986d-033a166ea2f6"
      },
      "execution_count": 119,
      "outputs": [
        {
          "output_type": "stream",
          "name": "stdout",
          "text": [
            "What is your name\n",
            "Jayasurya\n",
            "hello Jayasurya\n"
          ]
        }
      ]
    },
    {
      "cell_type": "markdown",
      "source": [
        "#STRING FUNCTIONS"
      ],
      "metadata": {
        "id": "W5evtWCrajXx"
      }
    },
    {
      "cell_type": "code",
      "source": [
        "long_string = \"i'll catch you if you fall - The Floor\"\n",
        "\n",
        "print(long_string[0:4])\n",
        "\n",
        "print(long_string[-5:])\n",
        "\n",
        "print(long_string[:-5])\n",
        "\n",
        "print(long_string[:4]+\" be there \")"
      ],
      "metadata": {
        "colab": {
          "base_uri": "https://localhost:8080/"
        },
        "id": "pefA1Q9wV-aI",
        "outputId": "9f75bb61-4079-4b33-c4cd-30832847adae"
      },
      "execution_count": 131,
      "outputs": [
        {
          "output_type": "stream",
          "name": "stdout",
          "text": [
            "i'll\n",
            "Floor\n",
            "i'll catch you if you fall - The \n",
            "i'll be there \n"
          ]
        }
      ]
    },
    {
      "cell_type": "code",
      "source": [
        "print('%c is my %s letter and my  number %d number is %.3f '%('X','favourite',1,1.14))"
      ],
      "metadata": {
        "colab": {
          "base_uri": "https://localhost:8080/"
        },
        "id": "2EAeBl15ZJXS",
        "outputId": "b74e65e8-9c22-4e71-9227-7c4c71cf3855"
      },
      "execution_count": 132,
      "outputs": [
        {
          "output_type": "stream",
          "name": "stdout",
          "text": [
            "X is my favourite letter and my  number 1 number is 1.140 \n"
          ]
        }
      ]
    },
    {
      "cell_type": "code",
      "source": [
        "long_string.capitalize()"
      ],
      "metadata": {
        "colab": {
          "base_uri": "https://localhost:8080/",
          "height": 35
        },
        "id": "n3fxHwmPavtR",
        "outputId": "f71b849f-f602-4173-f673-749d56d172e8"
      },
      "execution_count": 133,
      "outputs": [
        {
          "output_type": "execute_result",
          "data": {
            "text/plain": [
              "\"I'll catch you if you fall - the floor\""
            ],
            "application/vnd.google.colaboratory.intrinsic+json": {
              "type": "string"
            }
          },
          "metadata": {},
          "execution_count": 133
        }
      ]
    },
    {
      "cell_type": "code",
      "source": [
        "long_string.find(\"Floor\")"
      ],
      "metadata": {
        "colab": {
          "base_uri": "https://localhost:8080/"
        },
        "id": "3Lav7VkJa9eP",
        "outputId": "f56bde1a-3454-44a7-e564-678dd74b67a1"
      },
      "execution_count": 134,
      "outputs": [
        {
          "output_type": "execute_result",
          "data": {
            "text/plain": [
              "33"
            ]
          },
          "metadata": {},
          "execution_count": 134
        }
      ]
    },
    {
      "cell_type": "code",
      "source": [
        "long_string.isalpha()"
      ],
      "metadata": {
        "colab": {
          "base_uri": "https://localhost:8080/"
        },
        "id": "bnU2BZhgbDCt",
        "outputId": "65f99aee-6862-4d21-f5c5-e42c6977c3c2"
      },
      "execution_count": 135,
      "outputs": [
        {
          "output_type": "execute_result",
          "data": {
            "text/plain": [
              "False"
            ]
          },
          "metadata": {},
          "execution_count": 135
        }
      ]
    },
    {
      "cell_type": "code",
      "source": [
        "long_string.isalnum()"
      ],
      "metadata": {
        "colab": {
          "base_uri": "https://localhost:8080/"
        },
        "id": "FWQzsl9GbREk",
        "outputId": "91bd8ad0-5674-47b6-cdb7-5f8376344136"
      },
      "execution_count": 136,
      "outputs": [
        {
          "output_type": "execute_result",
          "data": {
            "text/plain": [
              "False"
            ]
          },
          "metadata": {},
          "execution_count": 136
        }
      ]
    },
    {
      "cell_type": "code",
      "source": [
        "len(long_string)"
      ],
      "metadata": {
        "colab": {
          "base_uri": "https://localhost:8080/"
        },
        "id": "zXo1ir-1bVkF",
        "outputId": "0ba15459-e3b9-40c5-9538-e417c3abf043"
      },
      "execution_count": 137,
      "outputs": [
        {
          "output_type": "execute_result",
          "data": {
            "text/plain": [
              "38"
            ]
          },
          "metadata": {},
          "execution_count": 137
        }
      ]
    },
    {
      "cell_type": "code",
      "source": [
        "long_string.replace(\"Floor\",\"Ground\")"
      ],
      "metadata": {
        "colab": {
          "base_uri": "https://localhost:8080/",
          "height": 35
        },
        "id": "Wnv3ZNvcbiq4",
        "outputId": "f955ae4f-2cd2-43d8-b2c4-a3ae7be2feb3"
      },
      "execution_count": 138,
      "outputs": [
        {
          "output_type": "execute_result",
          "data": {
            "text/plain": [
              "\"i'll catch you if you fall - The Ground\""
            ],
            "application/vnd.google.colaboratory.intrinsic+json": {
              "type": "string"
            }
          },
          "metadata": {},
          "execution_count": 138
        }
      ]
    },
    {
      "cell_type": "code",
      "source": [
        "\n",
        "long_string = \"     leading spaces trailing spaces.     \"\n",
        "long_string.strip()"
      ],
      "metadata": {
        "colab": {
          "base_uri": "https://localhost:8080/",
          "height": 35
        },
        "id": "Elk1NHNYb1RE",
        "outputId": "bf18600a-118b-47d8-9f5f-87354721b992"
      },
      "execution_count": 140,
      "outputs": [
        {
          "output_type": "execute_result",
          "data": {
            "text/plain": [
              "'leading spaces trailing spaces.'"
            ],
            "application/vnd.google.colaboratory.intrinsic+json": {
              "type": "string"
            }
          },
          "metadata": {},
          "execution_count": 140
        }
      ]
    },
    {
      "cell_type": "code",
      "source": [
        "long_string = \"trains, cars, buses, airplanes\"\n",
        "split_long_string = long_string.split(\",\")\n",
        "print(split_long_string)\n",
        "\n",
        "\n",
        "quote_list = quote.split(\" \")\n",
        "print(quote_list)\n",
        "\n"
      ],
      "metadata": {
        "colab": {
          "base_uri": "https://localhost:8080/"
        },
        "id": "Epka4lvmcdBC",
        "outputId": "f2758206-9685-4dd0-bec0-3743360fe710"
      },
      "execution_count": 144,
      "outputs": [
        {
          "output_type": "stream",
          "name": "stdout",
          "text": [
            "['trains', ' cars', ' buses', ' airplanes']\n",
            "['\"Always', 'remember', 'you', 'are', 'unique']\n"
          ]
        }
      ]
    },
    {
      "cell_type": "markdown",
      "source": [
        "#FILE READ/WRITE"
      ],
      "metadata": {
        "id": "YiXJfIV3eOuy"
      }
    },
    {
      "cell_type": "code",
      "source": [
        "test_file =  open(\"test.txt\",\"ab+\")"
      ],
      "metadata": {
        "id": "zV69btqXeTo2"
      },
      "execution_count": 212,
      "outputs": []
    },
    {
      "cell_type": "code",
      "source": [
        "print(test_file.mode)"
      ],
      "metadata": {
        "colab": {
          "base_uri": "https://localhost:8080/"
        },
        "id": "Up1qrw-Reo5y",
        "outputId": "1c0e9855-9e51-4055-ebde-43efa4e54304"
      },
      "execution_count": 213,
      "outputs": [
        {
          "output_type": "stream",
          "name": "stdout",
          "text": [
            "ab+\n"
          ]
        }
      ]
    },
    {
      "cell_type": "code",
      "source": [
        "print(test_file.name)"
      ],
      "metadata": {
        "colab": {
          "base_uri": "https://localhost:8080/"
        },
        "id": "1bGFR8lievIQ",
        "outputId": "c99101b4-13f8-4bc9-ea77-24c259b83988"
      },
      "execution_count": 214,
      "outputs": [
        {
          "output_type": "stream",
          "name": "stdout",
          "text": [
            "test.txt\n"
          ]
        }
      ]
    },
    {
      "cell_type": "code",
      "source": [
        "test_file.write(bytes(\"Append me to the test file\\n\",'UTF-8'))"
      ],
      "metadata": {
        "colab": {
          "base_uri": "https://localhost:8080/"
        },
        "id": "Pf7XBnUmj3dp",
        "outputId": "110e95d2-b443-4d0d-e5e8-698e7280653f"
      },
      "execution_count": 215,
      "outputs": [
        {
          "output_type": "execute_result",
          "data": {
            "text/plain": [
              "27"
            ]
          },
          "metadata": {},
          "execution_count": 215
        }
      ]
    },
    {
      "cell_type": "code",
      "source": [
        "\n",
        "test_file = open(\"test.txt\",\"r+\")\n",
        "text_in_file = test_file.read()\n",
        "print(text_in_file)"
      ],
      "metadata": {
        "colab": {
          "base_uri": "https://localhost:8080/"
        },
        "id": "s4VnzSD8f4pK",
        "outputId": "d3348d7d-f67e-493a-f409-e14dd091a2ae"
      },
      "execution_count": 216,
      "outputs": [
        {
          "output_type": "stream",
          "name": "stdout",
          "text": [
            "Append me to the test file\n",
            "Append me to the test file\n",
            "Append me to the test file\n",
            "\n"
          ]
        }
      ]
    },
    {
      "cell_type": "markdown",
      "source": [
        "CLASSES AND OBJECTS"
      ],
      "metadata": {
        "id": "fnSPbb4_pCEn"
      }
    },
    {
      "cell_type": "markdown",
      "source": [
        "##Class Definition"
      ],
      "metadata": {
        "id": "SWe0o3GivbrU"
      }
    },
    {
      "cell_type": "code",
      "source": [
        "class Animal :\n",
        "\n",
        "  __name = \"\"\n",
        "  __height =0\n",
        "  __weight =0\n",
        "  __sound = \"\"\n",
        "\n",
        "\n",
        "  def set_name(self,name) :\n",
        "       self.__name=name\n",
        "\n",
        "  def set_height(self,height) :\n",
        "       self.__height=height\n",
        "\n",
        "  def set_weight(self,weight) :\n",
        "       self.__weight = weight\n",
        "\n",
        "  def set_sound(self,sound) :\n",
        "       self.__sound=sound\n",
        "\n",
        "\n",
        "  def  get_name(self) :\n",
        "      return self.__name\n",
        "\n",
        "  def get_height(self) :\n",
        "       return self.__height\n",
        "\n",
        "  def get_weight(self) :\n",
        "       return self.__weight\n",
        "\n",
        "  def get_sound(self) :\n",
        "       return self.__sound\n",
        "\n",
        "  def __init__(self,name,height,weight,sound):\n",
        "      self.__name=name\n",
        "      self.__height=height\n",
        "      self.__weight=weight\n",
        "      self.__sound=sound\n",
        "\n",
        "\n",
        "  def get_types(self) :\n",
        "      print(\"Animal\")\n",
        "\n",
        "  def toString(self) :\n",
        "    print(\"{} is {} cm tall and is of weight {} kg and says {}\".format(self.__name,\n",
        "                                                                       self.__height,\n",
        "                                                                       self.__weight,\n",
        "                                                                       self.__sound))"
      ],
      "metadata": {
        "id": "11RuqRpPpH8n"
      },
      "execution_count": 220,
      "outputs": []
    },
    {
      "cell_type": "markdown",
      "source": [
        "##Object Creation"
      ],
      "metadata": {
        "id": "QvDB-yg7vgpg"
      }
    },
    {
      "cell_type": "code",
      "source": [
        "  cat = Animal('Whiskers',33,10,'Meow')\n",
        "  print(cat.toString())"
      ],
      "metadata": {
        "colab": {
          "base_uri": "https://localhost:8080/"
        },
        "id": "NPsoRLAEugZt",
        "outputId": "dcb7924a-f580-424a-dbf7-be9cce246f84"
      },
      "execution_count": 231,
      "outputs": [
        {
          "output_type": "stream",
          "name": "stdout",
          "text": [
            "Whiskers is 33 cm tall and is of weight 10 kg and says Meow\n",
            "None\n"
          ]
        }
      ]
    }
  ]
}